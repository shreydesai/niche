{
 "cells": [
  {
   "cell_type": "code",
   "execution_count": 1,
   "metadata": {
    "collapsed": false,
    "deletable": true,
    "editable": true
   },
   "outputs": [],
   "source": [
    "import os\n",
    "import nltk\n",
    "import math\n",
    "import random\n",
    "import collections"
   ]
  },
  {
   "cell_type": "code",
   "execution_count": 2,
   "metadata": {
    "collapsed": true,
    "deletable": true,
    "editable": true
   },
   "outputs": [],
   "source": [
    "parent = os.path.dirname(os.path.dirname(os.path.abspath('__file__')))\n",
    "parent = parent.split('/')\n",
    "parent.remove(parent[-1])\n",
    "parent = '/'.join(parent)\n",
    "categories = ['entertainment', 'sports', 'fun', 'games', 'weather', 'science', 'technology', 'politics']"
   ]
  },
  {
   "cell_type": "code",
   "execution_count": 3,
   "metadata": {
    "collapsed": false,
    "deletable": true,
    "editable": true
   },
   "outputs": [],
   "source": [
    "def fileids(category):\n",
    "    path = os.path.join(parent, 'corpus', 'processed', category)\n",
    "    return os.listdir(path)\n",
    "\n",
    "def words(file):\n",
    "    f = open(file, 'r', encoding='ISO-8859-1').read().strip()\n",
    "    sents = [sent.split(' ') for sent in f.split('\\n')]\n",
    "    words = [word for sent in sents for word in sent if len(word) > 0]\n",
    "    return words"
   ]
  },
  {
   "cell_type": "code",
   "execution_count": 4,
   "metadata": {
    "collapsed": false,
    "deletable": true,
    "editable": true
   },
   "outputs": [
    {
     "name": "stdout",
     "output_type": "stream",
     "text": [
      "Word count: 4110443\n"
     ]
    }
   ],
   "source": [
    "documents, total_words = [], []\n",
    "for category in categories:\n",
    "    for fileid in fileids(category):\n",
    "        path = os.path.join(parent, 'corpus', 'processed',\n",
    "                            category, fileid)\n",
    "        w = words(path)\n",
    "        documents.append((w, category))\n",
    "        total_words.extend(w)\n",
    "print('Word count:', len(total_words))\n",
    "#random.shuffle(documents)"
   ]
  },
  {
   "cell_type": "raw",
   "metadata": {
    "collapsed": false,
    "deletable": true,
    "editable": true
   },
   "source": [
    "all_words = set(total_words)\n",
    "word_features = list(all_words)\n",
    "random.shuffle(word_features)\n",
    "word_features = word_features[:2000]\n",
    "print('Vocab size:', len(all_words))"
   ]
  },
  {
   "cell_type": "code",
   "execution_count": 5,
   "metadata": {
    "collapsed": true,
    "deletable": true,
    "editable": true
   },
   "outputs": [],
   "source": [
    "def features(document):\n",
    "    document_words = set(document)\n",
    "    features = {}\n",
    "    for word in word_features:\n",
    "        features['contains({})'.format(word)] = (word in document_words)\n",
    "    return features"
   ]
  },
  {
   "cell_type": "code",
   "execution_count": 7,
   "metadata": {
    "collapsed": false,
    "deletable": true,
    "editable": true
   },
   "outputs": [
    {
     "name": "stdout",
     "output_type": "stream",
     "text": [
      "2500 0.8666666666666666\n"
     ]
    }
   ],
   "source": [
    "from nltk.classify import accuracy\n",
    "from nltk.classify.scikitlearn import SklearnClassifier\n",
    "from sklearn.naive_bayes import MultinomialNB\n",
    "\n",
    "for i in range(2500, 2501, 10):\n",
    "    \n",
    "    avg_acc = 0\n",
    "    \n",
    "    for k in range(5):\n",
    "    \n",
    "        random.shuffle(documents)\n",
    "\n",
    "        all_words = set(total_words)\n",
    "        word_features = list(all_words)\n",
    "        random.shuffle(word_features)\n",
    "        word_features = word_features[:i]\n",
    "        #print('Vocab size:', len(all_words))\n",
    "\n",
    "        feature_sets = [(features(d), c) for (d, c) in documents]\n",
    "        #print('Documents:', len(feature_sets))\n",
    "        cutoff = math.ceil(len(feature_sets) * 0.7)\n",
    "        train_set, test_set = feature_sets[:cutoff], feature_sets[cutoff:]\n",
    "\n",
    "        classifier = SklearnClassifier(MultinomialNB())\n",
    "        classifier.train(train_set)\n",
    "        acc = accuracy(classifier, test_set)\n",
    "        avg_acc += acc\n",
    "    \n",
    "    print(i,avg_acc/5)"
   ]
  },
  {
   "cell_type": "code",
   "execution_count": null,
   "metadata": {
    "collapsed": true
   },
   "outputs": [],
   "source": []
  }
 ],
 "metadata": {
  "kernelspec": {
   "display_name": "Python 3",
   "language": "python",
   "name": "python3"
  },
  "language_info": {
   "codemirror_mode": {
    "name": "ipython",
    "version": 3
   },
   "file_extension": ".py",
   "mimetype": "text/x-python",
   "name": "python",
   "nbconvert_exporter": "python",
   "pygments_lexer": "ipython3",
   "version": "3.5.2"
  }
 },
 "nbformat": 4,
 "nbformat_minor": 2
}
