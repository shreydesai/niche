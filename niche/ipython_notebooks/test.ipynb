{
 "cells": [
  {
   "cell_type": "code",
   "execution_count": 1,
   "metadata": {
    "collapsed": false,
    "deletable": true,
    "editable": true
   },
   "outputs": [],
   "source": [
    "import os\n",
    "import pandas as pd\n",
    "\n",
    "from sklearn.model_selection import train_test_split\n",
    "from sklearn.feature_extraction.text import CountVectorizer, TfidfTransformer\n",
    "from sklearn.naive_bayes import MultinomialNB\n",
    "from sklearn import metrics"
   ]
  },
  {
   "cell_type": "code",
   "execution_count": 2,
   "metadata": {
    "collapsed": true,
    "deletable": true,
    "editable": true
   },
   "outputs": [],
   "source": [
    "PARENT = '/Users/shreydesai/GitHub/niche'\n",
    "CATEGORIES = ['entertainment', 'sports', 'fun', 'games', \n",
    "              'weather', 'science', 'technology', 'politics']"
   ]
  },
  {
   "cell_type": "markdown",
   "metadata": {
    "deletable": true,
    "editable": true
   },
   "source": [
    "## Part 1: Reading text dataset into pandas\n",
    "- Each category has a list of fileids\n",
    "- Each fileid represents a Twitter account with ~3000 tweets\n",
    "- Need to read into a tuple of (category, sent, index)"
   ]
  },
  {
   "cell_type": "code",
   "execution_count": 3,
   "metadata": {
    "collapsed": false,
    "deletable": true,
    "editable": true
   },
   "outputs": [],
   "source": [
    "def fileids(category):\n",
    "    \"\"\"Gets a list of file IDs for each category\"\"\"\n",
    "    path = os.path.join(PARENT, 'corpus', 'processed', category)\n",
    "    dir_files = set(os.listdir(path))\n",
    "    blacklist = set(['.DS_Store'])\n",
    "    return list(dir_files - blacklist)\n",
    "\n",
    "def read_sents(file):\n",
    "    \"\"\"Reads sentences from specified file\"\"\"\n",
    "    f = open(file, 'r', encoding='ISO-8859-1').read().strip()\n",
    "    return [sent.strip() for sent in f.split('\\n')]\n",
    "\n",
    "data = []\n",
    "\n",
    "for index, category in enumerate(CATEGORIES):\n",
    "    for fileid in fileids(category):\n",
    "        path = os.path.join(PARENT, 'corpus', 'processed', \n",
    "                            category, fileid)\n",
    "        sents = read_sents(path)\n",
    "        data.extend([(category, sent, index) for sent in sents])"
   ]
  },
  {
   "cell_type": "code",
   "execution_count": 4,
   "metadata": {
    "collapsed": false,
    "deletable": true,
    "editable": true
   },
   "outputs": [
    {
     "data": {
      "text/html": [
       "<div>\n",
       "<table border=\"1\" class=\"dataframe\">\n",
       "  <thead>\n",
       "    <tr style=\"text-align: right;\">\n",
       "      <th></th>\n",
       "      <th>category</th>\n",
       "      <th>tweet</th>\n",
       "      <th>index</th>\n",
       "    </tr>\n",
       "  </thead>\n",
       "  <tbody>\n",
       "    <tr>\n",
       "      <th>0</th>\n",
       "      <td>entertainment</td>\n",
       "      <td>meghan markle's acting past comes to light see...</td>\n",
       "      <td>0</td>\n",
       "    </tr>\n",
       "    <tr>\n",
       "      <th>1</th>\n",
       "      <td>entertainment</td>\n",
       "      <td>zendaya talks about her growing fashion empire...</td>\n",
       "      <td>0</td>\n",
       "    </tr>\n",
       "    <tr>\n",
       "      <th>2</th>\n",
       "      <td>entertainment</td>\n",
       "      <td>this is us milo ventimiglia mandy moore on tha...</td>\n",
       "      <td>0</td>\n",
       "    </tr>\n",
       "    <tr>\n",
       "      <th>3</th>\n",
       "      <td>entertainment</td>\n",
       "      <td>beauty and the beast becomes fandango's top fa...</td>\n",
       "      <td>0</td>\n",
       "    </tr>\n",
       "    <tr>\n",
       "      <th>4</th>\n",
       "      <td>entertainment</td>\n",
       "      <td>angelina jolie gives her first college lecture...</td>\n",
       "      <td>0</td>\n",
       "    </tr>\n",
       "  </tbody>\n",
       "</table>\n",
       "</div>"
      ],
      "text/plain": [
       "        category                                              tweet  index\n",
       "0  entertainment  meghan markle's acting past comes to light see...      0\n",
       "1  entertainment  zendaya talks about her growing fashion empire...      0\n",
       "2  entertainment  this is us milo ventimiglia mandy moore on tha...      0\n",
       "3  entertainment  beauty and the beast becomes fandango's top fa...      0\n",
       "4  entertainment  angelina jolie gives her first college lecture...      0"
      ]
     },
     "execution_count": 4,
     "metadata": {},
     "output_type": "execute_result"
    }
   ],
   "source": [
    "df = pd.DataFrame().from_records(data)\n",
    "df.columns = ['category', 'tweet', 'index']\n",
    "df.head()"
   ]
  },
  {
   "cell_type": "code",
   "execution_count": 5,
   "metadata": {
    "collapsed": false,
    "deletable": true,
    "editable": true
   },
   "outputs": [
    {
     "data": {
      "text/plain": [
       "entertainment    46393\n",
       "science          46082\n",
       "politics         43354\n",
       "technology       42912\n",
       "sports           40199\n",
       "weather          39101\n",
       "fun              38829\n",
       "games            31301\n",
       "Name: category, dtype: int64"
      ]
     },
     "execution_count": 5,
     "metadata": {},
     "output_type": "execute_result"
    }
   ],
   "source": [
    "df.category.value_counts()"
   ]
  },
  {
   "cell_type": "code",
   "execution_count": 6,
   "metadata": {
    "collapsed": false,
    "deletable": true,
    "editable": true
   },
   "outputs": [
    {
     "name": "stdout",
     "output_type": "stream",
     "text": [
      "(328171,) (328171,)\n"
     ]
    }
   ],
   "source": [
    "# define X and y for scikit-learn\n",
    "X = df.tweet\n",
    "y = df.index\n",
    "print(X.shape, y.shape)"
   ]
  },
  {
   "cell_type": "code",
   "execution_count": 7,
   "metadata": {
    "collapsed": false,
    "deletable": true,
    "editable": true
   },
   "outputs": [
    {
     "name": "stdout",
     "output_type": "stream",
     "text": [
      "(246128,) (82043,) (246128,) (82043,)\n"
     ]
    }
   ],
   "source": [
    "# split into training and test sets\n",
    "X_train, X_test, y_train, y_test = train_test_split(X, y, random_state=1)\n",
    "print(X_train.shape, X_test.shape, y_train.shape, y_test.shape)"
   ]
  },
  {
   "cell_type": "markdown",
   "metadata": {
    "deletable": true,
    "editable": true
   },
   "source": [
    "## Part 2: Vectorizing the dataset"
   ]
  },
  {
   "cell_type": "code",
   "execution_count": null,
   "metadata": {
    "collapsed": false,
    "deletable": true,
    "editable": true
   },
   "outputs": [],
   "source": [
    "vect = CountVectorizer(max_df=0.5)\n",
    "# fit/transform training data\n",
    "X_train_dm = vect.fit_transform(X_train)\n",
    "# fit/trasnform test data\n",
    "X_test_dm = vect.transform(X_test)"
   ]
  },
  {
   "cell_type": "markdown",
   "metadata": {
    "deletable": true,
    "editable": true
   },
   "source": [
    "## Part 3: Building/evaluating the model"
   ]
  },
  {
   "cell_type": "code",
   "execution_count": null,
   "metadata": {
    "collapsed": false,
    "deletable": true,
    "editable": true
   },
   "outputs": [],
   "source": [
    "nb = MultinomialNB()\n",
    "# train model with X_train_dtm \n",
    "nb.fit(X_train_dm, y_train)\n",
    "# make predictions for X_test_dtm\n",
    "predictions = nb.predict(X_test_dm)"
   ]
  },
  {
   "cell_type": "code",
   "execution_count": null,
   "metadata": {
    "collapsed": false,
    "deletable": true,
    "editable": true
   },
   "outputs": [],
   "source": [
    "metrics.accuracy_score(y_test, predictions)"
   ]
  },
  {
   "cell_type": "code",
   "execution_count": null,
   "metadata": {
    "collapsed": true,
    "deletable": true,
    "editable": true
   },
   "outputs": [],
   "source": [
    "metrics.confusion_matrix(y_test, predictions)"
   ]
  },
  {
   "cell_type": "code",
   "execution_count": null,
   "metadata": {
    "collapsed": true,
    "deletable": true,
    "editable": true
   },
   "outputs": [],
   "source": []
  }
 ],
 "metadata": {
  "kernelspec": {
   "display_name": "Python 3",
   "language": "python",
   "name": "python3"
  },
  "language_info": {
   "codemirror_mode": {
    "name": "ipython",
    "version": 3
   },
   "file_extension": ".py",
   "mimetype": "text/x-python",
   "name": "python",
   "nbconvert_exporter": "python",
   "pygments_lexer": "ipython3",
   "version": "3.5.2"
  }
 },
 "nbformat": 4,
 "nbformat_minor": 2
}
