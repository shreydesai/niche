{
 "cells": [
  {
   "cell_type": "code",
   "execution_count": 1,
   "metadata": {
    "collapsed": true,
    "deletable": true,
    "editable": true
   },
   "outputs": [],
   "source": [
    "import os\n",
    "import nltk\n",
    "import math\n",
    "import random\n",
    "import collections"
   ]
  },
  {
   "cell_type": "code",
   "execution_count": 2,
   "metadata": {
    "collapsed": true,
    "deletable": true,
    "editable": true
   },
   "outputs": [],
   "source": [
    "parent = os.path.dirname(os.path.dirname(os.path.abspath('__file__')))\n",
    "parent = parent.split('/')\n",
    "parent.remove(parent[-1])\n",
    "parent = '/'.join(parent)\n",
    "categories = ['news', 'entertainment', 'sports', 'fun']"
   ]
  },
  {
   "cell_type": "code",
   "execution_count": 3,
   "metadata": {
    "collapsed": false,
    "deletable": true,
    "editable": true
   },
   "outputs": [],
   "source": [
    "def fileids(category):\n",
    "    path = os.path.join(parent, 'corpus', 'processed', category)\n",
    "    return os.listdir(path)\n",
    "\n",
    "def words(file):\n",
    "    f = open(file, 'r').read().strip()\n",
    "    sents = [sent.split(' ') for sent in f.split('\\n')]\n",
    "    words = [word for sent in sents for word in sent if len(word) > 0]\n",
    "    return words"
   ]
  },
  {
   "cell_type": "code",
   "execution_count": 4,
   "metadata": {
    "collapsed": false,
    "deletable": true,
    "editable": true
   },
   "outputs": [
    {
     "name": "stdout",
     "output_type": "stream",
     "text": [
      "Word count: 500369\n"
     ]
    }
   ],
   "source": [
    "documents, total_words = [], []\n",
    "for category in categories:\n",
    "    for fileid in fileids(category):\n",
    "        path = os.path.join(parent, 'corpus', 'processed',\n",
    "                            category, fileid)\n",
    "        w = words(path)\n",
    "        documents.append((w, category))\n",
    "        total_words.extend(w)\n",
    "print('Word count:', len(total_words))\n",
    "random.shuffle(documents)"
   ]
  },
  {
   "cell_type": "code",
   "execution_count": 5,
   "metadata": {
    "collapsed": false,
    "deletable": true,
    "editable": true
   },
   "outputs": [
    {
     "name": "stdout",
     "output_type": "stream",
     "text": [
      "Vocab size: 37446\n"
     ]
    }
   ],
   "source": [
    "all_words = set(total_words)\n",
    "word_features = list(all_words)\n",
    "print('Vocab size:', len(all_words))"
   ]
  },
  {
   "cell_type": "code",
   "execution_count": 6,
   "metadata": {
    "collapsed": true,
    "deletable": true,
    "editable": true
   },
   "outputs": [],
   "source": [
    "def features(document):\n",
    "    document_words = set(document)\n",
    "    features = {}\n",
    "    for word in word_features:\n",
    "        features['contains({})'.format(word)] = (word in document_words)\n",
    "    return features"
   ]
  },
  {
   "cell_type": "code",
   "execution_count": 7,
   "metadata": {
    "collapsed": false,
    "deletable": true,
    "editable": true
   },
   "outputs": [],
   "source": [
    "feature_sets = [(features(d), c) for (d, c) in documents]\n",
    "cutoff = math.ceil(len(feature_sets) * 0.7)\n",
    "train_set, test_set = feature_sets[:cutoff], feature_sets[cutoff:]"
   ]
  },
  {
   "cell_type": "code",
   "execution_count": 8,
   "metadata": {
    "collapsed": false,
    "deletable": true,
    "editable": true
   },
   "outputs": [
    {
     "name": "stdout",
     "output_type": "stream",
     "text": [
      "Training Set\n",
      "entertainment 3\n",
      "news 2\n",
      "fun 4\n",
      "sports 5\n",
      "\n",
      "Test Set\n",
      "entertainment 2\n",
      "news 3\n",
      "fun 1\n"
     ]
    }
   ],
   "source": [
    "print('Training Set')\n",
    "training_counts = [y for (x, y) in train_set]\n",
    "for k, v in collections.Counter(training_counts).items():\n",
    "    print(k, v)\n",
    "print()\n",
    "print('Test Set')\n",
    "test_counts = [y for (x, y) in test_set]\n",
    "for k, v in collections.Counter(test_counts).items():\n",
    "    print(k, v)"
   ]
  },
  {
   "cell_type": "code",
   "execution_count": 9,
   "metadata": {
    "collapsed": false,
    "deletable": true,
    "editable": true
   },
   "outputs": [
    {
     "name": "stdout",
     "output_type": "stream",
     "text": [
      "Accuracy: 0.8333333333333334\n",
      "Most Informative Features\n",
      "         contains(derek) = False             fun : sports =      3.6 : 1.0\n",
      "        contains(eagles) = False             fun : sports =      3.6 : 1.0\n",
      "      contains(redskins) = False             fun : sports =      3.6 : 1.0\n",
      "   contains(first-round) = False             fun : sports =      3.6 : 1.0\n",
      "       contains(trading) = False             fun : sports =      3.6 : 1.0\n",
      "        contains(harris) = False             fun : sports =      3.6 : 1.0\n",
      "     contains(garoppolo) = False             fun : sports =      3.6 : 1.0\n",
      "          contains(pats) = False             fun : sports =      3.6 : 1.0\n",
      "        contains(desean) = False             fun : sports =      3.6 : 1.0\n",
      "          contains(mary) = True              fun : sports =      3.6 : 1.0\n"
     ]
    }
   ],
   "source": [
    "classifier = nltk.NaiveBayesClassifier.train(train_set)\n",
    "print('Accuracy:', nltk.classify.accuracy(classifier, test_set))\n",
    "classifier.show_most_informative_features()"
   ]
  }
 ],
 "metadata": {
  "kernelspec": {
   "display_name": "Python 3",
   "language": "python",
   "name": "python3"
  },
  "language_info": {
   "codemirror_mode": {
    "name": "ipython",
    "version": 3
   },
   "file_extension": ".py",
   "mimetype": "text/x-python",
   "name": "python",
   "nbconvert_exporter": "python",
   "pygments_lexer": "ipython3",
   "version": "3.5.2"
  }
 },
 "nbformat": 4,
 "nbformat_minor": 2
}
